{
 "cells": [
  {
   "cell_type": "code",
   "execution_count": 1,
   "metadata": {},
   "outputs": [
    {
     "name": "stderr",
     "output_type": "stream",
     "text": [
      "Using TensorFlow backend.\n"
     ]
    }
   ],
   "source": [
    "import glob\n",
    "import pandas as pd\n",
    "import numpy as np\n",
    "import os\n",
    "import scipy\n",
    "import random\n",
    "import librosa\n",
    "import librosa.display\n",
    "import random\n",
    "import matplotlib.pyplot as plt\n",
    "from keras.models import load_model "
   ]
  },
  {
   "cell_type": "code",
   "execution_count": null,
   "metadata": {},
   "outputs": [],
   "source": [
    "path_to_validation = '../data_cut/'\n",
    "\n",
    "def audios_to_spectograms(file_names):\n",
    "  # Save different shapes in a set\n",
    "  x, shapes = [], set()\n",
    "\n",
    "  # Enumerate for logging\n",
    "  for indx, audio_file in enumerate(file_names):\n",
    "    # Use mfcc algorithm for spectograms\n",
    "    signal, sampling_rate = librosa.load(audio_file) \n",
    "    matrix = librosa.feature.mfcc(signal, sampling_rate)\n",
    "\n",
    "    x.append(matrix)\n",
    "    shapes.add(matrix.shape)\n",
    "    if (indx+1) % 50 == 0: print('{} analyzed out of {}'.format(indx+1, len(file_names))) # Log progress\n",
    "    \n",
    "  return x, shapes\n",
    "\n",
    "\n",
    "def choose_max_shapes(shapes):\n",
    "  # Iterate over shapes and choose biggest possible width and height\n",
    "  w, h = 0, 0\n",
    "  for shape in shapes:\n",
    "    w = max(w, shape[0])\n",
    "    h = max(h, shape[1])\n",
    "  return w, h\n",
    "\n",
    "def pad_spectogram(matrix):\n",
    "  # Since width is always 20 in mfcc, we only check for height difference\n",
    "  if matrix.shape[1] < def_h:\n",
    "    diff = def_h - matrix.shape[1]\n",
    "    # Append half of the difference in beginning\n",
    "    matrix = np.append(np.zeros((matrix.shape[0], diff//2), dtype=float), matrix, axis=1)\n",
    "    #Append res in the end\n",
    "    matrix = np.append(matrix, np.zeros((matrix.shape[0], diff - diff//2), dtype=float), axis=1)\n",
    "  return matrix\n",
    "\n",
    "\n",
    "\n",
    "def list_of_audios(dir_path):\n",
    "  arr = glob.glob(dir_path + '*.wav')\n",
    "  random.shuffle(arr) # Shuffled data is better for training\n",
    "  return list(map(lambda x: (x, parse_number(x)), arr))\n",
    "\n",
    "\n",
    "def parse_number(file_path):\n",
    "  return int(''.join(ch for ch in list(file_path) if ch.isdigit()))\n",
    "\n",
    "\n",
    "\n",
    "model = load_model('model.h5')\n",
    "\n",
    "t_df = pd.DataFrame(list_of_audios(path_to_validation), columns = ['file_name', 'correct'])\n",
    "print(t_df)\n",
    "t_matrices, t_shapes = audios_to_spectograms(t_df['file_name'])\n",
    "print('Different shapes:', t_shapes)\n",
    "def_w, def_h = choose_max_shapes(t_shapes)\n",
    "print('Every spectogram should be size of:', (def_w, def_h))\n",
    "t_x = np.array([pad_spectogram(matrix) for matrix in t_matrices])\n",
    "print(t_x.shape, '\\n')\n",
    "t_x_r = t_x.reshape(*t_x.shape, 1)\n",
    "\n",
    "final, prediction = [], model.predict(t_x_r)\n",
    "for i, pred in enumerate(prediction):\n",
    "  final.append([t_df['file_name'][i]] + [np.argmax(pred) + 1] + list(map(lambda s: str(s / sum(pred)), pred)))\n",
    "\n",
    "final_df = pd.DataFrame(final, columns = ['file_name', 'predicted', '1', '2', '3', '4', '5'])\n",
    "print(final_df)\n",
    "final_df.to_csv('results.csv')"
   ]
  },
  {
   "cell_type": "code",
   "execution_count": null,
   "metadata": {},
   "outputs": [],
   "source": []
  }
 ],
 "metadata": {
  "kernelspec": {
   "display_name": "Python 3",
   "language": "python",
   "name": "python3"
  },
  "language_info": {
   "codemirror_mode": {
    "name": "ipython",
    "version": 3
   },
   "file_extension": ".py",
   "mimetype": "text/x-python",
   "name": "python",
   "nbconvert_exporter": "python",
   "pygments_lexer": "ipython3",
   "version": "3.5.6"
  }
 },
 "nbformat": 4,
 "nbformat_minor": 2
}
