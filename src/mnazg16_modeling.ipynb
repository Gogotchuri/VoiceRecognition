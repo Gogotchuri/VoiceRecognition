{
  "nbformat": 4,
  "nbformat_minor": 0,
  "metadata": {
    "colab": {
      "name": "mnazg16_modeling.ipynb",
      "provenance": [],
      "collapsed_sections": [],
      "toc_visible": true
    },
    "kernelspec": {
      "display_name": "Python 3",
      "language": "python",
      "name": "python3"
    },
    "language_info": {
      "codemirror_mode": {
        "name": "ipython",
        "version": 3
      },
      "file_extension": ".py",
      "mimetype": "text/x-python",
      "name": "python",
      "nbconvert_exporter": "python",
      "pygments_lexer": "ipython3",
      "version": "3.5.2"
    }
  },
  "cells": [
    {
      "cell_type": "code",
      "metadata": {
        "colab_type": "code",
        "id": "hZ8wIZacDj7o",
        "colab": {}
      },
      "source": [
        "import numpy as np\n",
        "import pandas as pd\n",
        "import matplotlib.image as img\n",
        "from PIL import Image\n",
        "from random import shuffle\n",
        "import os, sys\n",
        "\n",
        "def sigmoid(z):\n",
        "    return 1/(1+np.exp(-z))\n",
        "\n",
        "def reverse_sigmoid(z):\n",
        "    return (sigmoid(z)*(1-sigmoid(z)))\n",
        "\n",
        "def loss_entropy(x, y):\n",
        "    return y*np.log(x+0.00000001)+(y-1)*np.log(1-x+0.00000001)\n",
        "\n",
        "class Dense():\n",
        "    def __init__(self, n_input, n_output, sigmoid=False, weights = None, prt=False):\n",
        "        self.prt = prt\n",
        "        self.n_input = n_input\n",
        "        self.n_output = n_output\n",
        "        self.sigmoid = sigmoid\n",
        "        if weights == None:\n",
        "            self.weights = np.random.randn(self.n_input, self.n_output)/100\n",
        "        else:\n",
        "            assert(weights.shape[0] == self.n_input and weights.shape[1] == self.n_output)\n",
        "            self.weights = weights\n",
        "        \n",
        "    def forward(self, Z):\n",
        "        assert(Z.shape[0])\n",
        "        self.Z = Z\n",
        "        if self.sigmoid:\n",
        "            return sigmoid(np.dot(Z, self.weights))\n",
        "        else: \n",
        "            return np.dot(Z, self.weights)\n",
        "        \n",
        "    def backward(self, loss, lr=0.01):\n",
        "        assert(loss.shape[1] == self.n_output)\n",
        "        if self.sigmoid:\n",
        "            loss = reverse_sigmoid(np.dot(self.Z, self.weights))*loss\n",
        "        if self.prt: print(self.weights, '/n')\n",
        "        self.weights -= lr*np.dot(np.transpose(self.Z), loss)\n",
        "        if self.prt:print(self.weights, '/n', lr*np.dot(np.transpose(self.Z), loss))\n",
        "        return np.dot(loss, np.transpose(self.weights))\n",
        "    \n",
        "    def weights(self):\n",
        "        return self.weights\n",
        "\n",
        "class Filter():\n",
        "    def __init__(self, dimension, matr_dim):\n",
        "        self.filt = np.random.randn(dimension, dimension)\n",
        "        self.dim = dimension\n",
        "        self.matr_dim = matr_dim\n",
        "        \n",
        "    def forward(self, matrice):\n",
        "        assert(matrice.shape[0] == self.matr_dim and matrice.shape[1] == self.matr_dim)\n",
        "        self.matrice = matrice\n",
        "        temp = np.zeros((self.matr_dim-self.dim+1, self.matr_dim-self.dim+1))\n",
        "        for x in range(self.matr_dim-self.dim+1):\n",
        "            for y in range(self.matr_dim-self.dim+1):\n",
        "                for w in range(self.dim):\n",
        "                    for h in range(self.dim):\n",
        "                        temp[x][y] += matrice[x+w][y+h]*self.filt[w][h]\n",
        "        return temp\n",
        "    \n",
        "    def backward(self, matr, lr):\n",
        "        assert(matr.shape[0] == self.matrice.shape[0]-self.dim+1 and matr.shape[1] == matr.shape[0])\n",
        "        diff = np.zeros((self.dim, self.dim))\n",
        "        matr_diff = np.zeros((self.matr_dim, self.matr_dim))\n",
        "        for i in range(matr.shape[0]):\n",
        "            for j in range(matr.shape[1]):\n",
        "                for x in range(self.dim):\n",
        "                    for y in range(self.dim):\n",
        "                        diff[x][y] += matr[i][j]*self.matrice[i+x][j+y]\n",
        "                        matr_diff[i+x][j+y] = matr[i][j]*self.filt[x][y]\n",
        "        self.filt -= lr*diff\n",
        "        return matr_diff\n",
        "                        \n",
        "\n",
        "class Conv():\n",
        "    def __init__(self, n_filter, n_matr, dim_filter, dim_matr):\n",
        "        self.filters = []\n",
        "        for i in range(n_matr):\n",
        "            self.filters.append([Filter(dim_filter, dim_matr) for i in range(n_filter)])\n",
        "        self.n_matr = n_matr\n",
        "        self.n_filter = n_filter\n",
        "        self.dim_matr = dim_matr\n",
        "        self.dim_filter = dim_filter\n",
        "        \n",
        "    def forward(self, matrices):\n",
        "        assert(len(matrices)==self.n_matr and len(matrices[0])==self.dim_matr and len(matrices[0][0])==self.dim_matr)\n",
        "        new_shape = self.dim_matr-self.dim_filter+1\n",
        "        result = np.array([np.zeros((new_shape, new_shape)) for i in range(self.n_filter)])\n",
        "        for j, matr in enumerate(matrices):\n",
        "            forw_matrs = np.array([filt.forward(matr) for filt in self.filters[j]])\n",
        "            result += forw_matrs\n",
        "        return result\n",
        "    \n",
        "    def backward(self, matrices, lr):\n",
        "        shape = self.dim_matr-self.dim_filter+1\n",
        "        assert(len(matrices) == self.n_filter and matrices[0].shape[0] == shape)\n",
        "        result = np.array([np.zeros((self.dim_matr, self.dim_matr)) for i in range(self.n_matr)])\n",
        "        for i, matr in enumerate(matrices):\n",
        "            matr_diff = []\n",
        "            for j in range(self.n_matr):\n",
        "                matr_diff.append(self.filters[j][i].backward(matr, lr))\n",
        "            matr_diff = np.array(matr_diff)\n",
        "            result += matr_diff\n",
        "        return result\n",
        "    \n",
        "class AvgPool():\n",
        "    def __init__(self, dimension=2):\n",
        "        self.dim = dimension\n",
        "    \n",
        "    def forward(self, matrices):\n",
        "        assert(matrices[0].shape[0]%self.dim == 0)\n",
        "        result = []\n",
        "        self.new_shape = matrices[0].shape[0]//self.dim\n",
        "        for matr in matrices:\n",
        "            new_matr = np.zeros((self.new_shape, self.new_shape))\n",
        "            for i in range(self.new_shape):\n",
        "                for j in range(self.new_shape):\n",
        "                    new_matr[i][j] = matr[i*self.dim:(i+1)*self.dim, j*self.dim:(j+1)*self.dim].mean()\n",
        "            result.append(new_matr)\n",
        "        return np.array(result)\n",
        "        \n",
        "    def backward(self, matrices):\n",
        "        assert(matrices[0].shape[0] == self.new_shape)\n",
        "        result = []\n",
        "        for matr in matrices:\n",
        "            big_matr = np.ones((self.new_shape*self.dim, self.new_shape*self.dim))*self.dim*self.dim\n",
        "            for i in range(self.new_shape):\n",
        "                for j in range(self.new_shape):\n",
        "                    big_matr[i*self.dim:(i+1)*self.dim, j*self.dim:(j+1)*self.dim] *= matr[i][j]\n",
        "            result.append(big_matr)\n",
        "        return np.array(result)\n",
        "      \n",
        "class Model():\n",
        "    def __init__(self):\n",
        "        self.conv_1 = Conv(3, 3, 2, 35)\n",
        "        self.conv_2 = Conv(3, 3, 2, 34)\n",
        "        self.dense_1 = Dense(3267, 128, prt=False,)\n",
        "        self.dense_2 = Dense(128, 10, sigmoid=True, prt=False)\n",
        "        self.lrt = 0.0001\n",
        "    \n",
        "    def train(self, X, Y, lrt, epoch=1):\n",
        "        assert(len(X)==len(Y))\n",
        "        for _ in range(epoch):\n",
        "            for i in range(len(X)):\n",
        "                h = self.forward(X[i])\n",
        "                loss = loss_entropy(h, Y[i])\n",
        "                self.backward(loss)\n",
        "    \n",
        "    def forward(self, X):\n",
        "        matrs = self.conv_1.forward(X)\n",
        "        matrs_2 = self.conv_2.forward(matrs)\n",
        "        matrs_3 = self.dense_1.forward(matrs_2.reshape(1, -1))\n",
        "        matrs_4 = self.dense_2.forward(matrs_3)\n",
        "        return matrs_4\n",
        "  \n",
        "    def backward(self, loss):\n",
        "        loss_1 = self.dense_2.backward(loss, self.lrt)\n",
        "        loss_2 = self.dense_1.backward(loss_1, self.lrt)\n",
        "        loss_3 = loss_2.reshape((3, 33, 33))\n",
        "        loss_4 = self.conv_2.backward(loss_3, self.lrt)\n",
        "        loss_5 = self.conv_1.backward(loss_4, self.lrt)\n",
        "    \n",
        "    def predict(self, X):\n",
        "        result = []\n",
        "        for i in range(len(X)):\n",
        "            res_vec = self.forward(X[i])\n",
        "            maxim = 0\n",
        "            res = 0\n",
        "            for j in range(len(X[i])):\n",
        "                if X[i][j] > maxim:\n",
        "                    maxim = X[i][j]\n",
        "                    res = j\n",
        "            result.append(res)\n",
        "        return result\n",
        "    \n",
        "asoebi = ['ვ', 'ჯ', 'შ', 'ნ', 'ს', 'ჟ', 'ე', 'ჩ', 'ო', 'ჭ']\n",
        "appear = {'ვ':1467, 'ჯ':1070, 'შ':1331, 'ნ':1374, 'ს':1311, 'ჟ':1004, 'ე':1259, 'ჩ':1274, 'ო':1135, 'ჭ':1002}\n",
        "path = './final_done/'\n",
        "X = []\n",
        "Y = []\n",
        "X_te = []\n",
        "Y_te = []\n",
        "count = 0\n",
        "for num, aso in enumerate(asoebi):\n",
        "    currX = []\n",
        "    currY = []\n",
        "    for app in range(appear[aso]):\n",
        "        im = Image.open(path+aso+'/'+aso+'_'+str(app)+'.jpg')\n",
        "        x = np.array(im.resize((35, 35)).convert('RGB'))\n",
        "        x = np.array([x[:,:,i] for i in range(3)])/255\n",
        "        y = np.zeros(10)\n",
        "        y[num] = 1\n",
        "        y = y.reshape(1, -1)\n",
        "        currX.append(x)\n",
        "        currY.append(y)\n",
        "        \n",
        "    shuffle(currX)\n",
        "    shuffle(currY)\n",
        "    \n",
        "    X_te.extend(currX[:200])\n",
        "    Y_te.extend(currY[:200])\n",
        "    X.extend(currX[200:])\n",
        "    Y.extend(currY[200:])\n",
        "      \n",
        "X = np.array(X)\n",
        "Y = np.array(Y)\n",
        "X_te = np.array(X_te)\n",
        "Y_te = np.array(Y_te)"
      ],
      "execution_count": 0,
      "outputs": []
    },
    {
      "cell_type": "code",
      "metadata": {
        "colab_type": "code",
        "id": "aJ-lNC9T_CQM",
        "colab": {}
      },
      "source": [
        "model = Model()"
      ],
      "execution_count": 0,
      "outputs": []
    },
    {
      "cell_type": "code",
      "metadata": {
        "colab_type": "code",
        "id": "FOFDwDqQ_a6Q",
        "scrolled": false,
        "colab": {}
      },
      "source": [
        "for zdfz in range(5):    \n",
        "    count = 0\n",
        "    for tvla in range(4012,len(X)): \n",
        "        ra = np.random.randint(0, len(X))\n",
        "        losa = model.forward(X[ra])\n",
        "        loss = loss_entropy(losa, Y[ra])\n",
        "        model.backward(loss)\n",
        "        res = 0\n",
        "        for i, re in enumerate(Y[ra][0]):\n",
        "            if re == 1: res=i\n",
        "        pas = 0\n",
        "        shed = 0\n",
        "        for i, re in enumerate(losa[0]):\n",
        "            if re>shed:\n",
        "                shed = re\n",
        "                pas = i\n",
        "        if pas == res:\n",
        "            count += 1\n",
        "        print(tvla, matrs_5, res, count, str(int(count/(tvla - 4011) * 10000) / 100) + \"%\" )"
      ],
      "execution_count": 0,
      "outputs": []
    },
    {
      "cell_type": "code",
      "metadata": {
        "id": "JZ5XaLOEDbx5",
        "colab_type": "code",
        "colab": {}
      },
      "source": [
        "def get_prediction(modul, X_te):\n",
        "    result = []\n",
        "    for i in range(len(X_te)):\n",
        "        res_vec = modul.forward(X_te[i])\n",
        "        maxim = 0\n",
        "        res = 0\n",
        "        for j in range(len(res_vec[0])):\n",
        "            if res_vec[0][j] > maxim:\n",
        "                maxim = res_vec[0][j]\n",
        "                res = j\n",
        "        if maxim < 0.1:\n",
        "            res = -1\n",
        "        print(res_vec)\n",
        "        result.append(res)\n",
        "    return result"
      ],
      "execution_count": 0,
      "outputs": []
    },
    {
      "cell_type": "code",
      "metadata": {
        "colab_type": "code",
        "id": "t_A0wkLl_8Hl",
        "colab": {}
      },
      "source": [
        "import pickle\n",
        "# filehandler = open(\"savedModel2.pkl\", 'wb') \n",
        "# pickle.dump(model, filehandler)\n",
        "\n",
        "filehandler = open(\"savedModel1.pkl\", 'rb') \n",
        "model1 = pickle.load(filehandler)"
      ],
      "execution_count": 0,
      "outputs": []
    },
    {
      "cell_type": "code",
      "metadata": {
        "collapsed": true,
        "id": "06w05d-WDbyS",
        "colab_type": "code",
        "colab": {},
        "outputId": "2283a39e-48d3-4506-9218-4f73c97c54c6"
      },
      "source": [
        "result = []\n",
        "for i in range(200:220):\n",
        "    res_vec = model1.forward(X_te[i])\n",
        "    maxim = 0\n",
        "    res = 0\n",
        "    for j in range(len(res_vec)):\n",
        "        if res_vec[0][j] > maxim:\n",
        "            maxim = res_vec[0][j]\n",
        "            res = j\n",
        "    result.append(res)"
      ],
      "execution_count": 0,
      "outputs": [
        {
          "output_type": "error",
          "ename": "KeyboardInterrupt",
          "evalue": "",
          "traceback": [
            "\u001b[0;31m---------------------------------------------------------------------------\u001b[0m",
            "\u001b[0;31mKeyboardInterrupt\u001b[0m                         Traceback (most recent call last)",
            "\u001b[0;32m<ipython-input-27-511c47efec34>\u001b[0m in \u001b[0;36m<module>\u001b[0;34m()\u001b[0m\n\u001b[1;32m      1\u001b[0m \u001b[0mresult\u001b[0m \u001b[0;34m=\u001b[0m \u001b[0;34m[\u001b[0m\u001b[0;34m]\u001b[0m\u001b[0;34m\u001b[0m\u001b[0m\n\u001b[1;32m      2\u001b[0m \u001b[0;32mfor\u001b[0m \u001b[0mi\u001b[0m \u001b[0;32min\u001b[0m \u001b[0mrange\u001b[0m\u001b[0;34m(\u001b[0m\u001b[0mlen\u001b[0m\u001b[0;34m(\u001b[0m\u001b[0mX_te\u001b[0m\u001b[0;34m)\u001b[0m\u001b[0;34m)\u001b[0m\u001b[0;34m:\u001b[0m\u001b[0;34m\u001b[0m\u001b[0m\n\u001b[0;32m----> 3\u001b[0;31m     \u001b[0mres_vec\u001b[0m \u001b[0;34m=\u001b[0m \u001b[0mmodel1\u001b[0m\u001b[0;34m.\u001b[0m\u001b[0mforward\u001b[0m\u001b[0;34m(\u001b[0m\u001b[0mX\u001b[0m\u001b[0;34m[\u001b[0m\u001b[0mi\u001b[0m\u001b[0;34m]\u001b[0m\u001b[0;34m)\u001b[0m\u001b[0;34m\u001b[0m\u001b[0m\n\u001b[0m\u001b[1;32m      4\u001b[0m     \u001b[0mmaxim\u001b[0m \u001b[0;34m=\u001b[0m \u001b[0;36m0\u001b[0m\u001b[0;34m\u001b[0m\u001b[0m\n\u001b[1;32m      5\u001b[0m     \u001b[0mres\u001b[0m \u001b[0;34m=\u001b[0m \u001b[0;36m0\u001b[0m\u001b[0;34m\u001b[0m\u001b[0m\n",
            "\u001b[0;32m<ipython-input-3-89ef514e0f46>\u001b[0m in \u001b[0;36mforward\u001b[0;34m(self, X)\u001b[0m\n\u001b[1;32m    155\u001b[0m \u001b[0;34m\u001b[0m\u001b[0m\n\u001b[1;32m    156\u001b[0m     \u001b[0;32mdef\u001b[0m \u001b[0mforward\u001b[0m\u001b[0;34m(\u001b[0m\u001b[0mself\u001b[0m\u001b[0;34m,\u001b[0m \u001b[0mX\u001b[0m\u001b[0;34m)\u001b[0m\u001b[0;34m:\u001b[0m\u001b[0;34m\u001b[0m\u001b[0m\n\u001b[0;32m--> 157\u001b[0;31m         \u001b[0mmatrs\u001b[0m \u001b[0;34m=\u001b[0m \u001b[0mself\u001b[0m\u001b[0;34m.\u001b[0m\u001b[0mconv_1\u001b[0m\u001b[0;34m.\u001b[0m\u001b[0mforward\u001b[0m\u001b[0;34m(\u001b[0m\u001b[0mX\u001b[0m\u001b[0;34m)\u001b[0m\u001b[0;34m\u001b[0m\u001b[0m\n\u001b[0m\u001b[1;32m    158\u001b[0m         \u001b[0mmatrs_2\u001b[0m \u001b[0;34m=\u001b[0m \u001b[0mself\u001b[0m\u001b[0;34m.\u001b[0m\u001b[0mconv_2\u001b[0m\u001b[0;34m.\u001b[0m\u001b[0mforward\u001b[0m\u001b[0;34m(\u001b[0m\u001b[0mmatrs\u001b[0m\u001b[0;34m)\u001b[0m\u001b[0;34m\u001b[0m\u001b[0m\n\u001b[1;32m    159\u001b[0m         \u001b[0mmatrs_3\u001b[0m \u001b[0;34m=\u001b[0m \u001b[0mself\u001b[0m\u001b[0;34m.\u001b[0m\u001b[0mdense_1\u001b[0m\u001b[0;34m.\u001b[0m\u001b[0mforward\u001b[0m\u001b[0;34m(\u001b[0m\u001b[0mmatrs_2\u001b[0m\u001b[0;34m.\u001b[0m\u001b[0mreshape\u001b[0m\u001b[0;34m(\u001b[0m\u001b[0;36m1\u001b[0m\u001b[0;34m,\u001b[0m \u001b[0;34m-\u001b[0m\u001b[0;36m1\u001b[0m\u001b[0;34m)\u001b[0m\u001b[0;34m)\u001b[0m\u001b[0;34m\u001b[0m\u001b[0m\n",
            "\u001b[0;32m<ipython-input-3-89ef514e0f46>\u001b[0m in \u001b[0;36mforward\u001b[0;34m(self, matrices)\u001b[0m\n\u001b[1;32m     95\u001b[0m         \u001b[0mresult\u001b[0m \u001b[0;34m=\u001b[0m \u001b[0mnp\u001b[0m\u001b[0;34m.\u001b[0m\u001b[0marray\u001b[0m\u001b[0;34m(\u001b[0m\u001b[0;34m[\u001b[0m\u001b[0mnp\u001b[0m\u001b[0;34m.\u001b[0m\u001b[0mzeros\u001b[0m\u001b[0;34m(\u001b[0m\u001b[0;34m(\u001b[0m\u001b[0mnew_shape\u001b[0m\u001b[0;34m,\u001b[0m \u001b[0mnew_shape\u001b[0m\u001b[0;34m)\u001b[0m\u001b[0;34m)\u001b[0m \u001b[0;32mfor\u001b[0m \u001b[0mi\u001b[0m \u001b[0;32min\u001b[0m \u001b[0mrange\u001b[0m\u001b[0;34m(\u001b[0m\u001b[0mself\u001b[0m\u001b[0;34m.\u001b[0m\u001b[0mn_filter\u001b[0m\u001b[0;34m)\u001b[0m\u001b[0;34m]\u001b[0m\u001b[0;34m)\u001b[0m\u001b[0;34m\u001b[0m\u001b[0m\n\u001b[1;32m     96\u001b[0m         \u001b[0;32mfor\u001b[0m \u001b[0mj\u001b[0m\u001b[0;34m,\u001b[0m \u001b[0mmatr\u001b[0m \u001b[0;32min\u001b[0m \u001b[0menumerate\u001b[0m\u001b[0;34m(\u001b[0m\u001b[0mmatrices\u001b[0m\u001b[0;34m)\u001b[0m\u001b[0;34m:\u001b[0m\u001b[0;34m\u001b[0m\u001b[0m\n\u001b[0;32m---> 97\u001b[0;31m             \u001b[0mforw_matrs\u001b[0m \u001b[0;34m=\u001b[0m \u001b[0mnp\u001b[0m\u001b[0;34m.\u001b[0m\u001b[0marray\u001b[0m\u001b[0;34m(\u001b[0m\u001b[0;34m[\u001b[0m\u001b[0mfilt\u001b[0m\u001b[0;34m.\u001b[0m\u001b[0mforward\u001b[0m\u001b[0;34m(\u001b[0m\u001b[0mmatr\u001b[0m\u001b[0;34m)\u001b[0m \u001b[0;32mfor\u001b[0m \u001b[0mfilt\u001b[0m \u001b[0;32min\u001b[0m \u001b[0mself\u001b[0m\u001b[0;34m.\u001b[0m\u001b[0mfilters\u001b[0m\u001b[0;34m[\u001b[0m\u001b[0mj\u001b[0m\u001b[0;34m]\u001b[0m\u001b[0;34m]\u001b[0m\u001b[0;34m)\u001b[0m\u001b[0;34m\u001b[0m\u001b[0m\n\u001b[0m\u001b[1;32m     98\u001b[0m             \u001b[0mresult\u001b[0m \u001b[0;34m+=\u001b[0m \u001b[0mforw_matrs\u001b[0m\u001b[0;34m\u001b[0m\u001b[0m\n\u001b[1;32m     99\u001b[0m         \u001b[0;32mreturn\u001b[0m \u001b[0mresult\u001b[0m\u001b[0;34m\u001b[0m\u001b[0m\n",
            "\u001b[0;32m<ipython-input-3-89ef514e0f46>\u001b[0m in \u001b[0;36m<listcomp>\u001b[0;34m(.0)\u001b[0m\n\u001b[1;32m     95\u001b[0m         \u001b[0mresult\u001b[0m \u001b[0;34m=\u001b[0m \u001b[0mnp\u001b[0m\u001b[0;34m.\u001b[0m\u001b[0marray\u001b[0m\u001b[0;34m(\u001b[0m\u001b[0;34m[\u001b[0m\u001b[0mnp\u001b[0m\u001b[0;34m.\u001b[0m\u001b[0mzeros\u001b[0m\u001b[0;34m(\u001b[0m\u001b[0;34m(\u001b[0m\u001b[0mnew_shape\u001b[0m\u001b[0;34m,\u001b[0m \u001b[0mnew_shape\u001b[0m\u001b[0;34m)\u001b[0m\u001b[0;34m)\u001b[0m \u001b[0;32mfor\u001b[0m \u001b[0mi\u001b[0m \u001b[0;32min\u001b[0m \u001b[0mrange\u001b[0m\u001b[0;34m(\u001b[0m\u001b[0mself\u001b[0m\u001b[0;34m.\u001b[0m\u001b[0mn_filter\u001b[0m\u001b[0;34m)\u001b[0m\u001b[0;34m]\u001b[0m\u001b[0;34m)\u001b[0m\u001b[0;34m\u001b[0m\u001b[0m\n\u001b[1;32m     96\u001b[0m         \u001b[0;32mfor\u001b[0m \u001b[0mj\u001b[0m\u001b[0;34m,\u001b[0m \u001b[0mmatr\u001b[0m \u001b[0;32min\u001b[0m \u001b[0menumerate\u001b[0m\u001b[0;34m(\u001b[0m\u001b[0mmatrices\u001b[0m\u001b[0;34m)\u001b[0m\u001b[0;34m:\u001b[0m\u001b[0;34m\u001b[0m\u001b[0m\n\u001b[0;32m---> 97\u001b[0;31m             \u001b[0mforw_matrs\u001b[0m \u001b[0;34m=\u001b[0m \u001b[0mnp\u001b[0m\u001b[0;34m.\u001b[0m\u001b[0marray\u001b[0m\u001b[0;34m(\u001b[0m\u001b[0;34m[\u001b[0m\u001b[0mfilt\u001b[0m\u001b[0;34m.\u001b[0m\u001b[0mforward\u001b[0m\u001b[0;34m(\u001b[0m\u001b[0mmatr\u001b[0m\u001b[0;34m)\u001b[0m \u001b[0;32mfor\u001b[0m \u001b[0mfilt\u001b[0m \u001b[0;32min\u001b[0m \u001b[0mself\u001b[0m\u001b[0;34m.\u001b[0m\u001b[0mfilters\u001b[0m\u001b[0;34m[\u001b[0m\u001b[0mj\u001b[0m\u001b[0;34m]\u001b[0m\u001b[0;34m]\u001b[0m\u001b[0;34m)\u001b[0m\u001b[0;34m\u001b[0m\u001b[0m\n\u001b[0m\u001b[1;32m     98\u001b[0m             \u001b[0mresult\u001b[0m \u001b[0;34m+=\u001b[0m \u001b[0mforw_matrs\u001b[0m\u001b[0;34m\u001b[0m\u001b[0m\n\u001b[1;32m     99\u001b[0m         \u001b[0;32mreturn\u001b[0m \u001b[0mresult\u001b[0m\u001b[0;34m\u001b[0m\u001b[0m\n",
            "\u001b[0;32m<ipython-input-3-89ef514e0f46>\u001b[0m in \u001b[0;36mforward\u001b[0;34m(self, matrice)\u001b[0m\n\u001b[1;32m     61\u001b[0m                 \u001b[0;32mfor\u001b[0m \u001b[0mw\u001b[0m \u001b[0;32min\u001b[0m \u001b[0mrange\u001b[0m\u001b[0;34m(\u001b[0m\u001b[0mself\u001b[0m\u001b[0;34m.\u001b[0m\u001b[0mdim\u001b[0m\u001b[0;34m)\u001b[0m\u001b[0;34m:\u001b[0m\u001b[0;34m\u001b[0m\u001b[0m\n\u001b[1;32m     62\u001b[0m                     \u001b[0;32mfor\u001b[0m \u001b[0mh\u001b[0m \u001b[0;32min\u001b[0m \u001b[0mrange\u001b[0m\u001b[0;34m(\u001b[0m\u001b[0mself\u001b[0m\u001b[0;34m.\u001b[0m\u001b[0mdim\u001b[0m\u001b[0;34m)\u001b[0m\u001b[0;34m:\u001b[0m\u001b[0;34m\u001b[0m\u001b[0m\n\u001b[0;32m---> 63\u001b[0;31m                         \u001b[0mtemp\u001b[0m\u001b[0;34m[\u001b[0m\u001b[0mx\u001b[0m\u001b[0;34m]\u001b[0m\u001b[0;34m[\u001b[0m\u001b[0my\u001b[0m\u001b[0;34m]\u001b[0m \u001b[0;34m+=\u001b[0m \u001b[0mmatrice\u001b[0m\u001b[0;34m[\u001b[0m\u001b[0mx\u001b[0m\u001b[0;34m+\u001b[0m\u001b[0mw\u001b[0m\u001b[0;34m]\u001b[0m\u001b[0;34m[\u001b[0m\u001b[0my\u001b[0m\u001b[0;34m+\u001b[0m\u001b[0mh\u001b[0m\u001b[0;34m]\u001b[0m\u001b[0;34m*\u001b[0m\u001b[0mself\u001b[0m\u001b[0;34m.\u001b[0m\u001b[0mfilt\u001b[0m\u001b[0;34m[\u001b[0m\u001b[0mw\u001b[0m\u001b[0;34m]\u001b[0m\u001b[0;34m[\u001b[0m\u001b[0mh\u001b[0m\u001b[0;34m]\u001b[0m\u001b[0;34m\u001b[0m\u001b[0m\n\u001b[0m\u001b[1;32m     64\u001b[0m         \u001b[0;32mreturn\u001b[0m \u001b[0mtemp\u001b[0m\u001b[0;34m\u001b[0m\u001b[0m\n\u001b[1;32m     65\u001b[0m \u001b[0;34m\u001b[0m\u001b[0m\n",
            "\u001b[0;31mKeyboardInterrupt\u001b[0m: "
          ]
        }
      ]
    },
    {
      "cell_type": "code",
      "metadata": {
        "scrolled": true,
        "id": "gKYRrOtLDbye",
        "colab_type": "code",
        "colab": {},
        "outputId": "6518d10d-9280-4137-a41f-2472f941bd99"
      },
      "source": [
        "get_prediction(model1, [yl, yl])[0]"
      ],
      "execution_count": 0,
      "outputs": [
        {
          "output_type": "stream",
          "text": [
            "[[0.39482059 0.32726472 0.60174564 0.87836673 0.22272144 0.08822368\n",
            "  0.52964715 0.79372871 0.57238789 0.18111308]]\n",
            "[[0.39482059 0.32726472 0.60174564 0.87836673 0.22272144 0.08822368\n",
            "  0.52964715 0.79372871 0.57238789 0.18111308]]\n"
          ],
          "name": "stdout"
        },
        {
          "output_type": "execute_result",
          "data": {
            "text/plain": [
              "3"
            ]
          },
          "metadata": {
            "tags": []
          },
          "execution_count": 88
        }
      ]
    },
    {
      "cell_type": "code",
      "metadata": {
        "id": "uEMc45klDbyx",
        "colab_type": "code",
        "colab": {},
        "outputId": "6dc04d58-8e2c-4662-e4e2-52e0bb09c749"
      },
      "source": [
        "model1.forward(X_te[200])"
      ],
      "execution_count": 0,
      "outputs": [
        {
          "output_type": "execute_result",
          "data": {
            "text/plain": [
              "array([[0.141386  , 0.72231507, 0.03119175, 0.00510686, 0.02955179,\n",
              "        0.20344773, 0.04915413, 0.04484764, 0.04375665, 0.54786322]])"
            ]
          },
          "metadata": {
            "tags": []
          },
          "execution_count": 67
        }
      ]
    },
    {
      "cell_type": "code",
      "metadata": {
        "id": "SSpvAl8qDby6",
        "colab_type": "code",
        "colab": {}
      },
      "source": [
        "import csv\n",
        "import os\n",
        "from PIL import Image\n",
        "import numpy as np\n",
        "\n",
        "input_folder = './input/ე' #needs to be filled\n",
        "\n",
        "def format_picture(image_path):\n",
        "    image = Image.open(image_path)\n",
        "    return image\n",
        "\n",
        "def generate_ans(image):\n",
        "    return 'a'\n",
        "\n",
        "if __name__ == \"__main__\":\n",
        "    image_files = os.listdir(input_folder)\n",
        "    result = []\n",
        "    for index in range(len(image_files)):\n",
        "        img = format_picture('{}/{}'.format(input_folder, image_files[index]))\n",
        "        ans = generate_ans(img)\n",
        "        result += [[str(index), 'a']]\n",
        "\n",
        "    filename = 'result.csv'\n",
        "    with open(filename, 'w') as f:\n",
        "        csv.writer(f).writerows(result)"
      ],
      "execution_count": 0,
      "outputs": []
    }
  ]
}